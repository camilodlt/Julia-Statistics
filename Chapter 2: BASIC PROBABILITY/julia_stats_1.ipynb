{
 "cells": [
  {
   "cell_type": "markdown",
   "metadata": {},
   "source": [
    "## Rolling a dice\n",
    "\n",
    "Our *experiment* consist of rolling two dices (they are fair and independent) and we are interested in the *event* of having an even number as the sum of the two dices' numbers. \n",
    "\n",
    "We define our event of interest: $A = \\{(i,j) | \\text{ i + j is even}\\} $"
   ]
  },
  {
   "cell_type": "markdown",
   "metadata": {},
   "source": [
    "We use the julia function `iseven()` to assess whether (i + j) is even."
   ]
  },
  {
   "cell_type": "code",
   "execution_count": 10,
   "metadata": {},
   "outputs": [
    {
     "name": "stdout",
     "output_type": "stream",
     "text": [
      "Numerical solution: 0.5\n"
     ]
    }
   ],
   "source": [
    "# Numerical solution\n",
    "faces = 1:6 # dice  \n",
    "Ω = length(faces)^2 # sample space\n",
    "EventOccurence = sum([iseven(i+j) for i in faces, j in faces]) # Occurence of event \n",
    "EventProba = EventOccurence/ Ω # divided by the sample space\n",
    "println(\"Numerical solution: $EventProba\")"
   ]
  },
  {
   "cell_type": "markdown",
   "metadata": {},
   "source": [
    "We use the julia function `rand()` to get a random throw of dice. "
   ]
  },
  {
   "cell_type": "code",
   "execution_count": 18,
   "metadata": {},
   "outputs": [
    {
     "name": "stdout",
     "output_type": "stream",
     "text": [
      "  0.096927 seconds (47.58 k allocations: 3.816 MiB, 40.97% compilation time)\n",
      "Monte Carlo estimate after 1000000 tries = 0.500662\n"
     ]
    }
   ],
   "source": [
    "# Monte Carlo Solution\n",
    "N= 10^6\n",
    "@time mcProba= sum([iseven(rand(faces) + rand(faces)) for i in 1:N]) / N\n",
    "println(\"Monte Carlo estimate after $N tries = $mcProba\")"
   ]
  }
 ],
 "metadata": {
  "kernelspec": {
   "display_name": "Julia 1.6.1",
   "language": "julia",
   "name": "julia-1.6"
  },
  "language_info": {
   "file_extension": ".jl",
   "mimetype": "application/julia",
   "name": "julia",
   "version": "1.6.1"
  },
  "orig_nbformat": 4
 },
 "nbformat": 4,
 "nbformat_minor": 2
}
